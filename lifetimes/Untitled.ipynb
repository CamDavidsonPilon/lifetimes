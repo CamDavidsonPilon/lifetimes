{
 "cells": [
  {
   "cell_type": "code",
   "execution_count": 2,
   "metadata": {
    "collapsed": false
   },
   "outputs": [],
   "source": [
    "import sys\n",
    "sys.path.append(\"..\")\n",
    "import lifetimes\n",
    "\n",
    "T = 100\n",
    "size = 10\n",
    "params = {'alpha': 0.56, 'beta': 1.17, 'gamma': 0.38, 'delta': 1.13, 'epsilon': 0.1, 'zeta': 2.5}\n",
    "data = gen.bgbbbb_model(T, params['alpha'], params['beta'], params['gamma'], params['delta'], params['epsilon'], params['zeta'], size=size)\n",
    "\n",
    "data = compress_session_purchase_data(data)\n",
    "\n",
    "model = models.BGBBBBModel()"
   ]
  },
  {
   "cell_type": "code",
   "execution_count": null,
   "metadata": {
    "collapsed": true
   },
   "outputs": [],
   "source": []
  }
 ],
 "metadata": {
  "kernelspec": {
   "display_name": "Python 2",
   "language": "python",
   "name": "python2"
  },
  "language_info": {
   "codemirror_mode": {
    "name": "ipython",
    "version": 2
   },
   "file_extension": ".py",
   "mimetype": "text/x-python",
   "name": "python",
   "nbconvert_exporter": "python",
   "pygments_lexer": "ipython2",
   "version": "2.7.10"
  }
 },
 "nbformat": 4,
 "nbformat_minor": 0
}
