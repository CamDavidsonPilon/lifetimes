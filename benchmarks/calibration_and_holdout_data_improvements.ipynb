{
 "cells": [
  {
   "cell_type": "markdown",
   "metadata": {},
   "source": [
    "# calibration_and_holdout_data improvements. \n",
    "\n",
    "This notebook demonstrates performance improvements of `calibration_and_holdout_data` as a result of code changes in commit `dff04c87053f9d5fa6107a86954ff311d0efad1a`, ([PR #311](https://github.com/CamDavidsonPilon/lifetimes/pull/311)).\n",
    "\n",
    "A speedup of roughly 7x was achieved."
   ]
  },
  {
   "cell_type": "code",
   "execution_count": 1,
   "metadata": {},
   "outputs": [
    {
     "name": "stdout",
     "output_type": "stream",
     "text": [
      "The autoreload extension is already loaded. To reload it, use:\n",
      "  %reload_ext autoreload\n"
     ]
    }
   ],
   "source": [
    "#Set autoreload on so module is reloaded after each checkout.\n",
    "%load_ext autoreload\n",
    "%autoreload 2"
   ]
  },
  {
   "cell_type": "markdown",
   "metadata": {},
   "source": [
    "## Before"
   ]
  },
  {
   "cell_type": "code",
   "execution_count": 2,
   "metadata": {},
   "outputs": [
    {
     "name": "stdout",
     "output_type": "stream",
     "text": [
      "Previous HEAD position was 3cda10b run timeit on new calibration_and_holdout_data\r\n",
      "HEAD is now at e9b3475 minor edit\r\n"
     ]
    }
   ],
   "source": [
    "# check out branch before change. This was origin/dev at PR time.\n",
    "!git checkout e9b3475ec81c3a036fd8087f50b65db70a651e75"
   ]
  },
  {
   "cell_type": "code",
   "execution_count": 3,
   "metadata": {},
   "outputs": [],
   "source": [
    "import lifetimes \n",
    "from lifetimes.datasets import load_transaction_data"
   ]
  },
  {
   "cell_type": "code",
   "execution_count": 4,
   "metadata": {
    "scrolled": true
   },
   "outputs": [],
   "source": [
    "# load dataset\n",
    "transaction_data = load_transaction_data()"
   ]
  },
  {
   "cell_type": "code",
   "execution_count": 5,
   "metadata": {},
   "outputs": [
    {
     "name": "stdout",
     "output_type": "stream",
     "text": [
      "623 ms ± 22.6 ms per loop (mean ± std. dev. of 7 runs, 1 loop each)\n"
     ]
    }
   ],
   "source": [
    "%%timeit\n",
    "lifetimes.utils.calibration_and_holdout_data(transaction_data, 'id', 'date',\n",
    "                                             calibration_period_end='2014-09-01',\n",
    "                                             observation_period_end='2014-12-31' )"
   ]
  },
  {
   "cell_type": "code",
   "execution_count": 6,
   "metadata": {},
   "outputs": [],
   "source": [
    "# keep a copy for comparison.\n",
    "transactions_before = lifetimes.utils.calibration_and_holdout_data(transaction_data, 'id', 'date', \n",
    "                                                                   calibration_period_end='2014-09-01',\n",
    "                                                                   observation_period_end='2014-12-31' )"
   ]
  },
  {
   "cell_type": "markdown",
   "metadata": {},
   "source": [
    "## After"
   ]
  },
  {
   "cell_type": "code",
   "execution_count": 7,
   "metadata": {},
   "outputs": [
    {
     "name": "stdout",
     "output_type": "stream",
     "text": [
      "Previous HEAD position was e9b3475 minor edit\r\n",
      "HEAD is now at 3cda10b run timeit on new calibration_and_holdout_data\r\n"
     ]
    }
   ],
   "source": [
    "# now with the change.\n",
    "!git checkout 3cda10b18ff9a3bb4accecca5dd1aac4324654f0"
   ]
  },
  {
   "cell_type": "code",
   "execution_count": 8,
   "metadata": {},
   "outputs": [
    {
     "name": "stdout",
     "output_type": "stream",
     "text": [
      "81.4 ms ± 3.12 ms per loop (mean ± std. dev. of 7 runs, 10 loops each)\n"
     ]
    }
   ],
   "source": [
    "%%timeit\n",
    "lifetimes.utils.calibration_and_holdout_data(transaction_data, 'id', 'date',\n",
    "                                             calibration_period_end='2014-09-01',\n",
    "                                             observation_period_end='2014-12-31' )"
   ]
  },
  {
   "cell_type": "code",
   "execution_count": 9,
   "metadata": {},
   "outputs": [],
   "source": [
    "transactions_after = lifetimes.utils.calibration_and_holdout_data(transaction_data, 'id', 'date', \n",
    "                                                                   calibration_period_end='2014-09-01',\n",
    "                                                                   observation_period_end='2014-12-31' )"
   ]
  },
  {
   "cell_type": "code",
   "execution_count": 10,
   "metadata": {},
   "outputs": [],
   "source": [
    "import pandas as pd\n",
    "pd.testing.assert_frame_equal(transactions_before, transactions_after)"
   ]
  }
 ],
 "metadata": {
  "kernelspec": {
   "display_name": "cac3.7.2",
   "language": "python",
   "name": "python3"
  },
  "language_info": {
   "codemirror_mode": {
    "name": "ipython",
    "version": 3
   },
   "file_extension": ".py",
   "mimetype": "text/x-python",
   "name": "python",
   "nbconvert_exporter": "python",
   "pygments_lexer": "ipython3",
   "version": "3.7.2"
  },
  "varInspector": {
   "cols": {
    "lenName": 16,
    "lenType": 16,
    "lenVar": 40
   },
   "kernels_config": {
    "python": {
     "delete_cmd_postfix": "",
     "delete_cmd_prefix": "del ",
     "library": "var_list.py",
     "varRefreshCmd": "print(var_dic_list())"
    },
    "r": {
     "delete_cmd_postfix": ") ",
     "delete_cmd_prefix": "rm(",
     "library": "var_list.r",
     "varRefreshCmd": "cat(var_dic_list()) "
    }
   },
   "types_to_exclude": [
    "module",
    "function",
    "builtin_function_or_method",
    "instance",
    "_Feature"
   ],
   "window_display": false
  }
 },
 "nbformat": 4,
 "nbformat_minor": 2
}
